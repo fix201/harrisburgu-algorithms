{
 "cells": [
  {
   "cell_type": "code",
   "execution_count": null,
   "metadata": {},
   "outputs": [],
   "source": [
    "# Helper methods\n",
    "def get_words(file) -> list():\n",
    "    with open(file, mode='r', encoding='utf-8-sig') as txt:\n",
    "        words = [''.join(filter(str.isalnum, word)) for line in txt for word in line.split()]\n",
    "    return list(set(words))\n",
    "    \n",
    "def isVowel(char):\n",
    "    char = char.lower()\n",
    "    return char == 'a' or char == 'e' or char == 'i' or char == 'o' or char == 'u'\n",
    "\n",
    "if __name__ == \"__main__\":\n",
    "    words = get_words('lorem_ipsum.txt')"
   ]
  },
  {
   "cell_type": "code",
   "execution_count": 31,
   "metadata": {},
   "outputs": [
    {
     "name": "stdout",
     "output_type": "stream",
     "text": [
      "Word Dictionary\n",
      " {'malesuada': 2, 'Interdum': 1, 'Integer': 1, 'Morbi': 1, 'pretium': 2, 'porta': 1, 'pulvinar': 1, 'massa': 1, 'at': 1, 'ex': 1, 'quis': 2, 'consequat': 2, 'non': 1, 'urna': 1, 'pellentesque': 2, 'ultrices': 1, 'ut': 1, 'scelerisque': 2, 'Donec': 1, 'tempus': 1, 'sed': 1, 'elit': 1, 'Phasellus': 1, 'velit': 1, 'fringilla': 1, 'vehicula': 1, 'tempor': 1, 'risus': 1, 'curae': 2, 'vulputate': 1, 'tortor': 1, 'ac': 1, 'ornare': 1, 'nulla': 1, 'Nulla': 1, 'vel': 1, 'lacinia': 2, 'Ut': 1, 'leo': 2, 'Nunc': 1, 'nisi': 1, 'orci': 1, 'Pellentesque': 2, 'ligula': 1, 'fermentum': 1, 'Sed': 1, 'lacus': 1, 'eu': 2, 'congue': 2, 'bibendum': 1, 'imperdiet': 2, 'Vestibulum': 1, 'dolor': 1, 'magnis': 1, 'Nam': 1, 'Lorem': 1, 'posuere': 2, 'mattis': 1, 'finibus': 1, 'suscipit': 1, 'nascetur': 1, 'ridiculus': 1, 'amet': 1, 'ultricies': 2, 'accumsan': 1, 'Nullam': 1, 'Maecenas': 2, 'natoque': 2, 'lorem': 1, 'Proin': 2, 'cursus': 1, 'netus': 1, 'efficitur': 1, 'adipiscing': 1, 'iaculis': 2, 'convallis': 1, 'eleifend': 2, 'magna': 1, 'Duis': 2, 'nunc': 1, 'porttitor': 1, 'metus': 1, 'laoreet': 2, 'nec': 1, 'Cras': 1, 'ullamcorper': 1, 'in': 1, 'habitant': 1, 'sem': 1, 'molestie': 2, 'mauris': 2, 'penatibus': 1, 'id': 1, 'Aliquam': 2, 'Vivamus': 1, 'dapibus': 1, 'lobortis': 1, 'rhoncus': 1, 'commodo': 1, 'rutrum': 1, 'hendrerit': 1, 'egestas': 1, 'viverra': 1, 'mi': 1, 'est': 1, 'maximus': 1, 'parturient': 2, 'libero': 1, 'facilisis': 1, 'Orci': 1, 'arcu': 1, 'Fusce': 1, 'purus': 1, 'enim': 1, 'tincidunt': 1, 'dis': 1, 'sapien': 2, 'sodales': 1, 'aliquam': 2, 'blandit': 1, 'mollis': 1, 'ipsum': 1, 'Etiam': 2, 'montes': 1, 'primis': 1, 'semper': 1, 'augue': 2, 'consectetur': 1, 'euismod': 3, 'eget': 1, 'Suspendisse': 1, 'quam': 2, 'Curabitur': 1, 'pharetra': 1, 'In': 1, 'tellus': 1, 'fames': 1, 'felis': 1, 'nisl': 1, 'neque': 2, 'ante': 1, 'justo': 1, 'diam': 2, 'luctus': 1, 'mus': 1, 'Praesent': 2, 'vitae': 2, 'vestibulum': 1, 'sagittis': 1, 'senectus': 1, 'interdum': 1, 'sit': 1, 'morbi': 1, 'et': 1, 'potenti': 1, 'aliquet': 2, 'auctor': 2, 'eros': 1, 'lectus': 1, 'dui': 2, 'a': 1, 'feugiat': 2, 'volutpat': 1, 'dictum': 1, 'facilisi': 1, 'gravida': 1, 'turpis': 1, 'sollicitudin': 1, 'venenatis': 1, 'elementum': 1, 'odio': 2, 'Mauris': 2, 'nibh': 1, 'faucibus': 2, 'varius': 2, 'dignissim': 1, 'placerat': 1, 'Aenean': 2, 'tristique': 2, 'erat': 1, 'cubilia': 2} \n",
      "\n",
      "Longest Vowel Substring - ['euismod']\n",
      "Longest Consonant Substring - ['ultrices', 'ultricies', 'porttitor', 'hendrerit']\n"
     ]
    }
   ],
   "source": [
    "# Longest Continual Substring of Vowels\n",
    "def longestVowelSubstring(words):\n",
    "    if len(words) == 0:\n",
    "        return []\n",
    "        \n",
    "    words_dict = {}\n",
    "\n",
    "    for word in words:\n",
    "        count, res = 0, 0\n",
    "        for char in word:\n",
    "            if isVowel(char):\n",
    "                count += 1\n",
    "            else:\n",
    "                res = max(res, count)\n",
    "                count = 0\n",
    "        words_dict.update({word:max(res, count)})\n",
    "\n",
    "    print('Word Dictionary\\n',words_dict,'\\n')\n",
    "    \n",
    "    max_value = max(words_dict.values())\n",
    "\n",
    "    return [k for k, v in words_dict.items() if v == max_value]\n",
    "\n",
    "# Longest Continual Substring of Consonants\n",
    "def longestConsonantSubstring(words):\n",
    "    if len(words) == 0:\n",
    "        return []\n",
    "    words_dict = {}\n",
    "\n",
    "    for word in words:\n",
    "        count, res = 0, 0\n",
    "        for char in word:\n",
    "            if not isVowel(char):\n",
    "                count += 1\n",
    "            else:\n",
    "                res = max(res, count)\n",
    "                count = 0\n",
    "        words_dict.update({word:max(res, count)})\n",
    "    \n",
    "    max_value = max(words_dict.values())\n",
    "\n",
    "    return [k for k, v in words_dict.items() if v == max_value]\n",
    "\n",
    "if __name__ == \"__main__\":\n",
    "    words = get_words('lorem_ipsum.txt')\n",
    "    # words = [\"Hello\", \"World\", \"Face\",\"Asthma\", \"Spring\", \"Because\", \"Thorough\", \"Sequoia\"]\n",
    "\n",
    "    print('Longest Vowel Substring -',longestVowelSubstring(words))\n",
    "    print('Longest Consonant Substring -',longestConsonantSubstring(words))\n"
   ]
  },
  {
   "cell_type": "code",
   "execution_count": 29,
   "metadata": {},
   "outputs": [
    {
     "name": "stdout",
     "output_type": "stream",
     "text": [
      "Longest Vowel Prefix - ['euismod']\n",
      "Longest Consonant Prefix - ['pretium', 'scelerisque', 'Phasellus', 'fringilla', 'Proin', 'Cras', 'rhoncus', 'blandit', 'primis', 'pharetra', 'Praesent', 'gravida', 'placerat', 'tristique']\n"
     ]
    }
   ],
   "source": [
    "# Longest Continual Prefix of Vowels\n",
    "def longestVowelPrefix(words):\n",
    "    if len(words) == 0:\n",
    "        return []\n",
    "    words_dict = {}\n",
    "\n",
    "    for word in words:\n",
    "        count = 0\n",
    "        for char in word:\n",
    "            if isVowel(char):\n",
    "                count += 1\n",
    "            else:\n",
    "                break\n",
    "        words_dict.update({word:count})\n",
    "    \n",
    "    max_value = max(words_dict.values())\n",
    "\n",
    "    return [k for k, v in words_dict.items() if v == max_value]\n",
    "\n",
    "# Longest Continual Prefix of Consonants\n",
    "def longestConsonantPrefix(words):\n",
    "    if len(words) == 0:\n",
    "        return []\n",
    "\n",
    "    words_dict = {}\n",
    "\n",
    "    for word in words:\n",
    "        count = 0\n",
    "        for char in word:\n",
    "            if not isVowel(char):\n",
    "                count += 1\n",
    "            else:\n",
    "                break\n",
    "        words_dict.update({word:count})\n",
    "    \n",
    "    max_value = max(words_dict.values())\n",
    "\n",
    "    return [k for k, v in words_dict.items() if v == max_value]\n",
    "\n",
    "if __name__ == \"__main__\":\n",
    "    words = get_words('lorem_ipsum.txt')\n",
    "    # words = [\"Hello\", \"World\", \"Face\",\"Asthma\", \"Spring\", \"Because\", \"Thorough\", \"Sequoia\"]\n",
    "\n",
    "    print('Longest Vowel Prefix -',longestVowelPrefix(words))\n",
    "    print('Longest Consonant Prefix -',longestConsonantPrefix(words))\n"
   ]
  },
  {
   "cell_type": "code",
   "execution_count": 30,
   "metadata": {},
   "outputs": [
    {
     "name": "stdout",
     "output_type": "stream",
     "text": [
      "Longest Vowel Suffix - ['pellentesque', 'scelerisque', 'curae', 'lacinia', 'leo', 'Pellentesque', 'eu', 'congue', 'natoque', 'molestie', 'augue', 'neque', 'vitae', 'dui', 'odio', 'tristique', 'cubilia']\n",
      "Longest Consonant Suffix - ['Nunc', 'adipiscing', 'eleifend', 'nunc', 'habitant', 'est', 'parturient', 'tincidunt', 'nisl', 'Praesent', 'nibh']\n"
     ]
    }
   ],
   "source": [
    "def flip_words(words):\n",
    "    return [word[::-1] for word in words]\n",
    "\n",
    "# Longest Continual Suffix of Vowels\n",
    "def longestVowelSuffix(words):\n",
    "    return flip_words(longestVowelPrefix(flip_words(words)))\n",
    "\n",
    "# Longest Continual Suffix of Consonants\n",
    "def longestConsonantSuffix(words):\n",
    "    return flip_words(longestConsonantPrefix(flip_words(words)))\n",
    "\n",
    "if __name__ == \"__main__\":\n",
    "    words = get_words('lorem_ipsum.txt')\n",
    "    # words = [\"Hello\", \"World\", \"Face\",\"Asthma\", \"Spring\", \"Because\", \"Thorough\", \"Sequoia\"]\n",
    "\n",
    "    print('Longest Vowel Suffix -',longestVowelSuffix(words))\n",
    "    print('Longest Consonant Suffix -',longestConsonantSuffix(words))"
   ]
  }
 ],
 "metadata": {
  "interpreter": {
   "hash": "dea054d1ff89a4396d09c68ef3b5938b1aa999e0889d3c927085b3e1c2a5747e"
  },
  "kernelspec": {
   "display_name": "Python 3.9.7 64-bit",
   "language": "python",
   "name": "python3"
  },
  "language_info": {
   "codemirror_mode": {
    "name": "ipython",
    "version": 3
   },
   "file_extension": ".py",
   "mimetype": "text/x-python",
   "name": "python",
   "nbconvert_exporter": "python",
   "pygments_lexer": "ipython3",
   "version": "3.9.7"
  },
  "orig_nbformat": 4
 },
 "nbformat": 4,
 "nbformat_minor": 2
}
