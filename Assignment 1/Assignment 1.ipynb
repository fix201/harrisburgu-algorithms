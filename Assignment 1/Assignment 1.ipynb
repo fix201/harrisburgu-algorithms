{
 "cells": [
  {
   "cell_type": "code",
   "execution_count": 12,
   "id": "6f7b3d27",
   "metadata": {},
   "outputs": [
    {
     "name": "stdout",
     "output_type": "stream",
     "text": [
      "[5, 5, 6, 11, 12, 13]\n"
     ]
    }
   ],
   "source": [
    "# Insertion Sort\n",
    "def insertionSort(arr):\n",
    "    # Traverse through 1 to len(arr)\n",
    "    for i in range(1, len(arr)):\n",
    "        key = arr[i]\n",
    "        j = i-1\n",
    "        # Move elements of arr[0..i-1], that are\n",
    "        # greater than key, to one position ahead\n",
    "        # of their current position\n",
    "        while j >= 0 and key < arr[j] :\n",
    "            arr[j + 1] = arr[j]\n",
    "            j -= 1\n",
    "        arr[j + 1] = key\n",
    "arr = [5, 12, 11, 13, 5, 6]\n",
    "insertionSort(arr)\n",
    "print(arr)        \n"
   ]
  },
  {
   "cell_type": "code",
   "execution_count": 13,
   "id": "37492498",
   "metadata": {},
   "outputs": [],
   "source": [
    "# Traveling Salesman Problem\n",
    "\n",
    "def travelingSalesMan(m, memo, S, N):\n",
    "    lastIndex = S\n",
    "    state = (1 << N) - 1\n",
    "    tour =  0"
   ]
  },
  {
   "cell_type": "code",
   "execution_count": 17,
   "id": "cdcc27cf",
   "metadata": {},
   "outputs": [
    {
     "name": "stdout",
     "output_type": "stream",
     "text": [
      "135\n"
     ]
    }
   ],
   "source": [
    "# Finding the Sum of all Values in a 3-D Array\n",
    "def sum3D(arr):\n",
    "    sum = 0\n",
    "    for i in range(0, len(arr)):\n",
    "        for j in arr[i]:\n",
    "            for k in range(0, len(j)):\n",
    "                sum += j[k]\n",
    "    return sum\n",
    "arr1 = [\n",
    "    [[1,1,1], [2,2,2], [3,3,3]],\n",
    "    [[4,4,4], [5,5,5], [6,6,6]],\n",
    "    [[7,7,7], [8,8,8], [9,9,9]]\n",
    "]\n",
    "print(sum3D(arr1))"
   ]
  },
  {
   "cell_type": "code",
   "execution_count": null,
   "id": "819da65a",
   "metadata": {},
   "outputs": [],
   "source": [
    "# Radix Sort"
   ]
  },
  {
   "cell_type": "code",
   "execution_count": null,
   "id": "c3c54228",
   "metadata": {},
   "outputs": [],
   "source": [
    "# Brute Force Password Cracker"
   ]
  }
 ],
 "metadata": {
  "kernelspec": {
   "display_name": "Python 3 (ipykernel)",
   "language": "python",
   "name": "python3"
  },
  "language_info": {
   "codemirror_mode": {
    "name": "ipython",
    "version": 3
   },
   "file_extension": ".py",
   "mimetype": "text/x-python",
   "name": "python",
   "nbconvert_exporter": "python",
   "pygments_lexer": "ipython3",
   "version": "3.8.9"
  }
 },
 "nbformat": 4,
 "nbformat_minor": 5
}
