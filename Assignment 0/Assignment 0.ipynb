{
 "cells": [
  {
   "cell_type": "code",
   "execution_count": 1,
   "id": "4e8316ca",
   "metadata": {},
   "outputs": [
    {
     "name": "stdout",
     "output_type": "stream",
     "text": [
      "[1, 2, 3.0]\n",
      "Your input is not a list or list of only numbers\n",
      "[]\n"
     ]
    }
   ],
   "source": [
    "# 1. A class that accepts a list of numbers on instantiation\n",
    "class CustomList:\n",
    "    def __init__(self, input):\n",
    "        if type(input) != list or not all(isinstance(i, int) or isinstance(i, float) for i in input):\n",
    "            print(\"Your input is not a list or list of only numbers\")\n",
    "            self.input = []\n",
    "        else:\n",
    "            self.input = input\n",
    "        \n",
    "    def __str__(self):\n",
    "        return str(self.input)\n",
    "\n",
    "print(CustomList([1,2,3.0]))\n",
    "print(CustomList([1,'2',3.0]))\n"
   ]
  },
  {
   "cell_type": "code",
   "execution_count": 2,
   "id": "c60cc4d2",
   "metadata": {},
   "outputs": [
    {
     "name": "stdout",
     "output_type": "stream",
     "text": [
      "11\n"
     ]
    }
   ],
   "source": [
    "# 2. Add a method that recursively finds the maximum\n",
    "class CustomList:\n",
    "    def __init__(self, input):\n",
    "        if type(input) != list or not all(isinstance(i, int) or isinstance(i, float) for i in input):\n",
    "            print(\"Your input is not a list or list of only numbers\")\n",
    "            self.input = []\n",
    "        else:\n",
    "            self.input = input\n",
    "        \n",
    "    def __str__(self):\n",
    "        return str(self.input)\n",
    "    \n",
    "    def maximum(self, input=[]):\n",
    "        input = self.input\n",
    "        if len(input) == 0:\n",
    "            return None\n",
    "        if len(input) == 1:\n",
    "            return self.input[0]\n",
    "        temp = input[0] if input[0] > input[1] else input[1]\n",
    "        input[1] = temp\n",
    "        self.input = input[1:]\n",
    "        return self.maximum(self.input)\n",
    "    \n",
    "print(CustomList([5,2,6,8,10,11]).maximum())"
   ]
  },
  {
   "cell_type": "code",
   "execution_count": 3,
   "id": "5fcc45a4",
   "metadata": {},
   "outputs": [
    {
     "name": "stdout",
     "output_type": "stream",
     "text": [
      "-3.0\n"
     ]
    }
   ],
   "source": [
    "# 3. Add a method that iteratively finds the minimum\n",
    "class CustomList:\n",
    "    def __init__(self, input):\n",
    "        if type(input) != list or not all(isinstance(i, int) or isinstance(i, float) for i in input):\n",
    "            print(\"Your input is not a list or list of only numbers\")\n",
    "            self.input = []\n",
    "        else:\n",
    "            self.input = input\n",
    "        \n",
    "    def __str__(self):\n",
    "        return str(self.input)\n",
    "    \n",
    "    def minimum(self):\n",
    "        if len(self.input) == 0:\n",
    "            return None\n",
    "        min = self.input[0]\n",
    "        for el in self.input:\n",
    "            if el < min:\n",
    "                min = el\n",
    "        return min\n",
    "    \n",
    "print(CustomList([-1,2,-3.0]).minimum())\n"
   ]
  },
  {
   "cell_type": "code",
   "execution_count": 4,
   "id": "ebfe8086",
   "metadata": {},
   "outputs": [
    {
     "name": "stdout",
     "output_type": "stream",
     "text": [
      "Your list: [3149, 3318, 9336, 6480, 1396, 7015, 5015, 3914, 3185, 5910, 4113, 136, 1296, 3330, 9374, 9207, 4149, 8473, 1627, 1173, 4357, 2586, 4255, 3447, 7759, 9995, 1679, 6471, 5031, 8242, 8127, 3924, 2968, 2243, 7747, 6030, 1578, 5365, 5550, 6823, 9053, 4429, 5965, 9062, 2580, 9255, 6176, 9490, 1484, 2127, 2983, 4484, 2619, 248, 7858, 1250, 3102, 313, 9619, 8507, 6583, 8946, 3252, 8507, 8227, 9938, 8634, 7059, 3982, 2877, 7884, 680, 2773, 9169, 7392, 6005, 7345, 4705, 9275, 1449, 5001, 4760, 5641, 3772, 6493, 1303, 1765, 7850, 7251, 7580, 5417, 2141, 3730, 7346, 6582, 3349, 6663, 9874, 6197, 1151]\n",
      "The lower bound (minimum) of your list is 136\n",
      "The upper bound (maximum) of your list is 9995\n"
     ]
    }
   ],
   "source": [
    "# 4. Everything all together with the main function\n",
    "import csv\n",
    "class CustomList:\n",
    "    def __init__(self, input):\n",
    "        if type(input) != list or not all(isinstance(i, int) or isinstance(i, float) for i in input):\n",
    "            print(\"Your input is not a list or list of only numbers\")\n",
    "            self.input = []\n",
    "        else:\n",
    "            self.input = input\n",
    "        \n",
    "    def __str__(self):\n",
    "        return str(self.input)\n",
    "    \n",
    "    def maximum(self, input=[]):\n",
    "        input = self.input\n",
    "        if len(input) == 0:\n",
    "            return None\n",
    "        if len(input) == 1:\n",
    "            return self.input[0]\n",
    "        temp = input[0] if input[0] > input[1] else input[1]\n",
    "        input[1] = temp\n",
    "        self.input = input[1:]\n",
    "        return self.maximum(self.input)\n",
    "    \n",
    "    def minimum(self):\n",
    "        if len(self.input) == 0:\n",
    "            return None\n",
    "        min = self.input[0]\n",
    "        for el in self.input:\n",
    "            if el < min:\n",
    "                min = el\n",
    "        return min\n",
    "\n",
    "def main():\n",
    "    arr = []\n",
    "    \n",
    "    with open('random_numbers.csv', mode='r', encoding='utf-8-sig') as csv_file:\n",
    "        reader = csv.reader(csv_file)\n",
    "        for col in reader:\n",
    "            arr.extend(col)\n",
    "            \n",
    "    arr = list(map(int, arr))\n",
    "    customList = CustomList(arr)\n",
    "    \n",
    "    print('Your list:',customList)\n",
    "    print('The lower bound (minimum) of your list is', customList.minimum())\n",
    "    print('The upper bound (maximum) of your list is', customList.maximum())\n",
    "\n",
    "main()"
   ]
  },
  {
   "cell_type": "code",
   "execution_count": null,
   "id": "68bc151b",
   "metadata": {},
   "outputs": [],
   "source": []
  }
 ],
 "metadata": {
  "kernelspec": {
   "display_name": "Python 3 (ipykernel)",
   "language": "python",
   "name": "python3"
  },
  "language_info": {
   "codemirror_mode": {
    "name": "ipython",
    "version": 3
   },
   "file_extension": ".py",
   "mimetype": "text/x-python",
   "name": "python",
   "nbconvert_exporter": "python",
   "pygments_lexer": "ipython3",
   "version": "3.9.7"
  }
 },
 "nbformat": 4,
 "nbformat_minor": 5
}
